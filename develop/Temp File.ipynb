{
 "cells": [
  {
   "cell_type": "code",
   "execution_count": 17,
   "metadata": {},
   "outputs": [],
   "source": [
    "import praw\n",
    "import pandas as pd\n",
    "import numpy as np\n",
    "import string\n",
    "import pickle\n",
    "\n",
    "import nltk\n",
    "from nltk import word_tokenize\n",
    "from nltk.corpus import stopwords\n",
    "from nltk.stem import WordNetLemmatizer\n",
    "from nltk.tokenize import RegexpTokenizer"
   ]
  },
  {
   "cell_type": "code",
   "execution_count": 7,
   "metadata": {},
   "outputs": [],
   "source": [
    "def process_url(URL):\n",
    "    url = str(URL)\n",
    "    \n",
    "    if('/r/india/comments/' in url):\n",
    "        count = 0\n",
    "        final_string = ''\n",
    "        \n",
    "        for i in range(len(url)):\n",
    "            if url[i] == '/':\n",
    "                count += 1\n",
    "                \n",
    "            elif count == 5:\n",
    "                final_string += url[i]\n",
    "        split_words = final_string.split('_')\n",
    "        final_title = ' '.join(word for word in split_words)\n",
    "        \n",
    "        return str(final_title)\n",
    "    else:\n",
    "        print(\"Exception\")\n",
    "        return words"
   ]
  },
  {
   "cell_type": "code",
   "execution_count": 38,
   "metadata": {},
   "outputs": [
    {
     "name": "stderr",
     "output_type": "stream",
     "text": [
      "[nltk_data] Downloading package stopwords to /home/aditya/nltk_data...\n",
      "[nltk_data]   Package stopwords is already up-to-date!\n"
     ]
    }
   ],
   "source": [
    "nltk.download(\"stopwords\")\n",
    "\n",
    "# Adding new stopwords to the Set\n",
    "full_stopwords = [\"says\", \"help\", \"wrote\", \"https\", \"http\", \"like\", \"19\", \"com\", \"www\", \"use\", \"ve\",\n",
    "                 \"just\", \"does\", \"don\", \"t\", \"did\", \"india\"]\n",
    "\n",
    "stopwords = stopwords.words('english')\n",
    "\n",
    "stopwords.extend(full_stopwords)"
   ]
  },
  {
   "cell_type": "code",
   "execution_count": 46,
   "metadata": {},
   "outputs": [
    {
     "name": "stderr",
     "output_type": "stream",
     "text": [
      "[nltk_data] Downloading package wordnet to /home/aditya/nltk_data...\n",
      "[nltk_data]   Package wordnet is already up-to-date!\n"
     ]
    }
   ],
   "source": [
    "nltk.download(\"wordnet\")\n",
    "lemmatizer = WordNetLemmatizer()\n",
    "tokenizer  = RegexpTokenizer(r'\\w+')"
   ]
  },
  {
   "cell_type": "code",
   "execution_count": 47,
   "metadata": {},
   "outputs": [],
   "source": [
    "def cleanText(text):\n",
    "\ttext = str(text);\n",
    "\n",
    "\ttokens = tokenizer.tokenize(text)\n",
    "\tpost = [lemmatizer.lemmatize(post) for post in tokens]\n",
    "\ttext = \" \".join(post)\n",
    "\treturn text"
   ]
  },
  {
   "cell_type": "code",
   "execution_count": 83,
   "metadata": {},
   "outputs": [],
   "source": [
    "def getData_usingPraw(URL):\n",
    "\t# INITIALISING PRAW INSTANCES\n",
    "\t# AS WELL AS CREATE AN OBJECT FOR THE SUBREDDIT\n",
    "\treddit = praw.Reddit(client_id='bDeE8HyIL4WqVw',\n",
    "                        \tclient_secret='R0X7ghLgpVwIjTyGdJPgJwF5rG4',\n",
    "                        \tuser_agent='reddit-flair-detector',\n",
    "                        \tusername='culifer_time')\n",
    "\n",
    "\tinfo_post = reddit.submission(url=str(URL))\n",
    "\tinfo_post.comments.replace_more(limit=0)\n",
    "\tposts = []\n",
    "\n",
    "\tcomments = \"\"\n",
    "\tcomment_limit = 50\n",
    "\ti = 0\n",
    "\tfor comment in info_post.comments.list():\n",
    "\t\tcomments += comment.body + \" \"\n",
    "\t\ti = i+1\n",
    "\t\tif(i > comment_limit):\n",
    "\t\t\tbreak\n",
    "\n",
    "\tposts.extend([info_post.title, \n",
    "\t\t\t\tinfo_post.selftext, \n",
    "\t\t\t\tcomments, \n",
    "\t\t\t\tinfo_post.permalink, \n",
    "\t\t\t\tinfo_post.link_flair_text])\n",
    "\n",
    "\tposts[0] = cleanText(posts[0])\n",
    "\tposts[1] = cleanText(posts[1])\n",
    "\tposts[2] = cleanText(posts[2])\n",
    "\tposts[3] = process_url(posts[3])\n",
    "\n",
    "\ts = \"\"\n",
    "\ts = posts[0] + \" \" + posts[1] + \" \" + posts[2] + \" \" + posts[3]\n",
    "\n",
    "\treturn s,posts[4]"
   ]
  },
  {
   "cell_type": "code",
   "execution_count": 89,
   "metadata": {},
   "outputs": [],
   "source": [
    "link = \"https://www.reddit.com/r/india/comments/fl998t/pm_modi_to_address_the_nation_discussion_thread/\"\n",
    "X_test, flair_text = getData_usingPraw(link)"
   ]
  },
  {
   "cell_type": "code",
   "execution_count": 90,
   "metadata": {},
   "outputs": [
    {
     "data": {
      "text/plain": [
       "'Politics'"
      ]
     },
     "execution_count": 90,
     "metadata": {},
     "output_type": "execute_result"
    }
   ],
   "source": [
    "flair_text"
   ]
  },
  {
   "cell_type": "code",
   "execution_count": 91,
   "metadata": {},
   "outputs": [],
   "source": [
    "filename = '../models/CVRF_allParams.sav'\n",
    "loaded_model = pickle.load(open(filename, 'rb'))\n",
    "\n",
    "result = loaded_model.predict([X_test])"
   ]
  },
  {
   "cell_type": "code",
   "execution_count": 92,
   "metadata": {},
   "outputs": [
    {
     "data": {
      "text/plain": [
       "array(['Policy/Economy'], dtype=object)"
      ]
     },
     "execution_count": 92,
     "metadata": {},
     "output_type": "execute_result"
    }
   ],
   "source": [
    "result"
   ]
  },
  {
   "cell_type": "code",
   "execution_count": 94,
   "metadata": {},
   "outputs": [
    {
     "data": {
      "text/plain": [
       "'Policy/Economy'"
      ]
     },
     "execution_count": 94,
     "metadata": {},
     "output_type": "execute_result"
    }
   ],
   "source": [
    "result[0]"
   ]
  },
  {
   "cell_type": "code",
   "execution_count": 93,
   "metadata": {},
   "outputs": [
    {
     "data": {
      "text/plain": [
       "'PM Modi to address the nation Discussion Thread Starts from 8 PM IST PM Modi to address the nation tonight something relating to the COVID 19 outbreak starting at 8 PM IST feel free to speculate and discus it live Official YouTube Live Link http www youtube com watch v t1Ps0tqcb2A DD Feed with Subtitles http www youtube com watch v vkNnV62un5s Live News Threads IndiaToday http www indiatoday in india story pm modi address on coronavirus live update rumour about pending national lockdown false say pmo source 1657548 2020 03 19 Bloomberg Quint http www bloombergquint com coronavirus outbreak prime minister modis address on coronavirus live update Live News thread will be included here a they start becoming available Key Points of the address Prime Minister Narendra Modi ha called for a self imposed Janta curfew on Sunday starting from 7 a m to 9 p m He appealed that people not go out of their house during the curfew Sunday s citizen curfew will go towards proving our self restraint help in future situation Locking down any Indian city is almost impossible imho We aren t a organized or competent a China or Italy NaMo will probably just tell people to stay at home and not to panic The long pause he took when he said I need something from you Uff That wa ball busting deleted My speculation There wont be a lockdown but there will be a ban on inter city travel of people till end of this month I guess Goods can still move This is enough to test the impact of community spread and if the measure are effective Apart from intercity travel there would be closing of certain infra service which is already being announced Modi could announce a relief package like suspension of debt for a month like what France did but that is too far fetched idea for now lot of misinformation fake message gharelu nuskhey being spread over whatsapp group Received one just now in my family group saying Govt will spray medicine against coronovirus using chopper so stay inside dont have your clothes hanging outside and don t panic if you hear load of helicopter flying over How can I convince my father to stay home and not go to office He somehow think it is absolutely imperative for him to go to office and say he take all precaution but at his age it make no sense to go everyday Thing is that I am not in the same city currently so it is very difficult just to convince him over phone I DECLARE BANKRUPTCY I like it do a test get feedback maybe repeat later deleted Most likely name of twin being born 9 month from Sunday Sankalp and Sayyam It s not Modi but the teleprompter that s slow So we ll just stand there clapping for 5 full min Genius Just to clear somthing I read in comment that art 352 will be invoked Hmmm it s not that much simple to that in our case because there are no such provision in the constitution for health emergency It is entirely a new situation for u Constitutionally speaking they can impose a state emergency if any state doesn t follow the directive of the centre And financial emergency in future if our economy go down But no national emergency For that they need an amendment Because currently it is possible in only two situation 1 at time of war and 2 armed rebellion Sunday Janta curfew is most probably a pilot to ass the readiness of the public in case of a lockdown Total lockdown will be passed under Disaster management act There are various other provision Like section 35 40 of DMA What is the difference between the two 1 in case of art 352 High chance of right to go to court are cancelled art 32 2 in case of DMA you can go to court afterwards if you feel there are wrong from government I hope this will clear some confusion A key point to notice is thathe ha asked u for NEXT FEW WEEKS of our time We are working on a crowd sourced handbook for tackling the spread of Covid 19 in India We are looking for people to assist in compiling resource in this handbook Check out covidindiasupport com http covidindiasupport com fbclid IwAR0mM63aD6c6l5WiR8n9dhSN4IEH0dCaEF6Gr2BMWztMuFzHsgcDRazUfu8 to see the current version of the handbook and sign up to contribute moderate help in whatever way you can Press meeting should be done rather than this nation briefing Keeping with Modi s request I m going to play my loudspeaker full blast at 5 PM on Sunday Neighbours watch out WhatsApp University ha declared that Modiji will declare lockdown and it will extend till June I know it s b but I m worried about elder who believe WhatsApp message to be patthar li lakeer and are out hoarding everything they can My dad yesterday called me and told me to hoard a much a I can Modiji burped now Asking everyone something Need some week of yours Mitron 5 bje muth maarenge balcony se seedha neeche second floor wale ke sar pe removed Also there ha been lockdown speculation and rumour it ha been officially confirmed there will be no nationwide lockdown Not officially confirmed unless it come from the government itself Can you really trust TOI with reliable reporting Mitroooon Good idea to educate people it ll have an impact Though I think overenthusiastic bhakts will take it upon themselves to enforce the janata curfew in the future From last 2 month in airport hospital street Everyone busy in working to keep people safe without bothering about their own self These service are not normal They are doing it still They stand like power And country is very thankful to these selfless people Disclaimer Posting it again and again so that people can get to this faster Feel free to not upvote DD news feed With English subtitle http www youtube com watch v vkNnV62un5s Who gave him this idea of clapping from balcony window not expecting any big bang announcement probably mudi will give a status update and encourage our medical worker to keep fighting the fight is he campaigning come to the fuckin point Aisa lag raha hai ki lode lagne waale hain Not bad Probably testing the water and assessing how much it is possible It s a test To see how successful a quarantine can be At least could ve requested bank to defer interest Mere ko aisa dhak dhak ho rela hai Mitronnnnn aaj raat 12 baje se This will probably just a status update kind of thing reassuring people that thing are under control The press conference already announced a lot of guideline and measure The main thing is how can we ensure that people follow it It is probably like a trial run for a longer stricter lockdown You can see example all over the world of people panic buying and hoarding stuff for fear of a total shutdown they want to prevent that He specifically said that all supply will continue to be available and not to indulge in panic buying so yeah that s one way to ease 1 3B people into staying the fuck home DD news feed With English subtitle http www youtube com watch v vkNnV62un5s So good point Don t hoarder Buy a you do normally Businesses should support worker financially self isolate go outside only if urgent Mitron ye corona china se aya h kya ham logo ko bahar ke logo ko andar ane dena chaiye Kya baahri logo ko nationality deni chaiye And than he will start praising caa nrc and andh bhakt will be like wow modi hai to corona ka vinash mumkin h And modia will be like modi se kese dara corona dekhiye rat 8baje DD news feed With English subtitle http www youtube com watch v vkNnV62un5s Thank god it is pre recorded imagine if he cough now mad ho jaati public COVID 19 Economic response team by finance ministry to be setup Will help poor middle class people The janata curfew is a good try but come on Does anyone actually think it s going to succeed People don t understand the urgency mostly Unless Phase 3 is in full blast and they can t deny it anymore I don t think there will be any concrete lock down or measure Rest wa good speech but feel more like PR fluff than the measure we need deleted Italians timepass is our National disaster policy Modiji is just going to tell the general info that s it We know to wash hand keep distance wear mask Let s see क य ब लत Bal Narendra story time Main jab chotta tha ho gya bc chaalu Is this Janata curfew legally enforceable or just a public plea by the PM Also why is it for one day only Yes we need to thank all the front line worker and should not make their job harder They are at risk a it is pm modi to address the nation discussion thread'"
      ]
     },
     "execution_count": 93,
     "metadata": {},
     "output_type": "execute_result"
    }
   ],
   "source": [
    "X_test"
   ]
  },
  {
   "cell_type": "code",
   "execution_count": null,
   "metadata": {},
   "outputs": [],
   "source": []
  }
 ],
 "metadata": {
  "kernelspec": {
   "display_name": "Python 3",
   "language": "python",
   "name": "python3"
  },
  "language_info": {
   "codemirror_mode": {
    "name": "ipython",
    "version": 3
   },
   "file_extension": ".py",
   "mimetype": "text/x-python",
   "name": "python",
   "nbconvert_exporter": "python",
   "pygments_lexer": "ipython3",
   "version": "3.7.6"
  }
 },
 "nbformat": 4,
 "nbformat_minor": 4
}

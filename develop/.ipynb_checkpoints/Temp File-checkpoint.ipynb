{
 "cells": [
  {
   "cell_type": "code",
   "execution_count": 17,
   "metadata": {},
   "outputs": [],
   "source": [
    "import praw\n",
    "import pandas as pd\n",
    "import numpy as np\n",
    "import string\n",
    "import pickle\n",
    "\n",
    "import nltk\n",
    "from nltk import word_tokenize\n",
    "from nltk.corpus import stopwords\n",
    "from nltk.stem import WordNetLemmatizer\n",
    "from nltk.tokenize import RegexpTokenizer"
   ]
  },
  {
   "cell_type": "code",
   "execution_count": 7,
   "metadata": {},
   "outputs": [],
   "source": [
    "def process_url(URL):\n",
    "    url = str(URL)\n",
    "    \n",
    "    if('/r/india/comments/' in url):\n",
    "        count = 0\n",
    "        final_string = ''\n",
    "        \n",
    "        for i in range(len(url)):\n",
    "            if url[i] == '/':\n",
    "                count += 1\n",
    "                \n",
    "            elif count == 5:\n",
    "                final_string += url[i]\n",
    "        split_words = final_string.split('_')\n",
    "        final_title = ' '.join(word for word in split_words)\n",
    "        \n",
    "        return str(final_title)\n",
    "    else:\n",
    "        print(\"Exception\")\n",
    "        return words"
   ]
  },
  {
   "cell_type": "code",
   "execution_count": 13,
   "metadata": {},
   "outputs": [
    {
     "name": "stderr",
     "output_type": "stream",
     "text": [
      "[nltk_data] Downloading package stopwords to /home/aditya/nltk_data...\n",
      "[nltk_data]   Package stopwords is already up-to-date!\n"
     ]
    }
   ],
   "source": [
    "nltk.download(\"stopwords\")\n",
    "\n",
    "# Adding new stopwords to the Set\n",
    "full_stopwords = [\"says\", \"help\", \"wrote\", \"https\", \"http\", \"like\", \"19\", \"com\", \"www\", \"use\", \"ve\",\n",
    "                 \"just\", \"does\", \"don\", \"t\", \"did\"]\n",
    "\n",
    "stopwords = stopwords.words('english')\n",
    "\n",
    "stopwords.extend(full_stopwords)"
   ]
  },
  {
   "cell_type": "code",
   "execution_count": 14,
   "metadata": {},
   "outputs": [],
   "source": [
    "def cleanText(text):\n",
    "\ttext = str(text);\n",
    "\t\n",
    "\t# Using Existing stopwords\n",
    "\n",
    "\tlemmatizer = WordNetLemmatizer()\n",
    "\ttokenizer  = RegexpTokenizer(r'\\w+')\n",
    "\n",
    "\ttokens = tokenizer.tokenize(text)\n",
    "\tpost = [lemmatizer.lemmatize(post) for post in tokens]\n",
    "\ttext = \" \".join(post)\n",
    "\treturn text"
   ]
  },
  {
   "cell_type": "code",
   "execution_count": 15,
   "metadata": {},
   "outputs": [],
   "source": [
    "def getData_usingPraw(URL):\n",
    "\t# INITIALISING PRAW INSTANCES\n",
    "\t# AS WELL AS CREATE AN OBJECT FOR THE SUBREDDIT\n",
    "\treddit = praw.Reddit(client_id='bDeE8HyIL4WqVw',\n",
    "                        \tclient_secret='R0X7ghLgpVwIjTyGdJPgJwF5rG4',\n",
    "                        \tuser_agent='reddit-flair-detector',\n",
    "                        \tusername='culifer_time')\n",
    "\n",
    "\tinfo_post = reddit.submission(url=str(URL))\n",
    "\tinfo_post.comments.replace_more(limit=0)\n",
    "\tposts = []\n",
    "\n",
    "\tcomments = \"\"\n",
    "\tcomment_limit = 50\n",
    "\ti = 0\n",
    "\tfor comment in info_post.comments.list():\n",
    "\t\tcomments += comment.body + \" \"\n",
    "\t\ti = i+1\n",
    "\t\tif(i > comment_limit):\n",
    "\t\t\tbreak\n",
    "\n",
    "\tposts.extend([info_post.title, \n",
    "\t\t\t\tinfo_post.selftext, \n",
    "\t\t\t\tcomments, \n",
    "\t\t\t\tinfo_post.permalink, \n",
    "\t\t\t\tinfo_post.link_flair_text])\n",
    "\n",
    "\tposts[0] = cleanText(posts[0])\n",
    "\tposts[1] = cleanText(posts[1])\n",
    "\tposts[2] = cleanText(posts[2])\n",
    "\tposts[3] = process_url(posts[3])\n",
    "\n",
    "\ts = \"\"\n",
    "\ts = posts[0] + \" \" + posts[1] + \" \" + posts[2] + \" \" + posts[3]\n",
    "\n",
    "\treturn s,posts[4]"
   ]
  },
  {
   "cell_type": "code",
   "execution_count": 18,
   "metadata": {},
   "outputs": [],
   "source": [
    "link = \"https://www.reddit.com/r/india/comments/g0jntt/women_gather_together_during_dust_storm_in/\"\n",
    "X_test, flair_text = getData_usingPraw(link)"
   ]
  },
  {
   "cell_type": "code",
   "execution_count": 19,
   "metadata": {},
   "outputs": [
    {
     "data": {
      "text/plain": [
       "'Non-Political'"
      ]
     },
     "execution_count": 19,
     "metadata": {},
     "output_type": "execute_result"
    }
   ],
   "source": [
    "flair_text"
   ]
  },
  {
   "cell_type": "code",
   "execution_count": 20,
   "metadata": {},
   "outputs": [],
   "source": [
    "filename = '../models/CVRF_allParams.sav'\n",
    "loaded_model = pickle.load(open(filename, 'rb'))\n",
    "\n",
    "result = loaded_model.predict([X_test])"
   ]
  },
  {
   "cell_type": "code",
   "execution_count": 21,
   "metadata": {},
   "outputs": [
    {
     "data": {
      "text/plain": [
       "array(['Business/Finance'], dtype=object)"
      ]
     },
     "execution_count": 21,
     "metadata": {},
     "output_type": "execute_result"
    }
   ],
   "source": [
    "result"
   ]
  },
  {
   "cell_type": "code",
   "execution_count": null,
   "metadata": {},
   "outputs": [],
   "source": []
  }
 ],
 "metadata": {
  "kernelspec": {
   "display_name": "Python 3",
   "language": "python",
   "name": "python3"
  },
  "language_info": {
   "codemirror_mode": {
    "name": "ipython",
    "version": 3
   },
   "file_extension": ".py",
   "mimetype": "text/x-python",
   "name": "python",
   "nbconvert_exporter": "python",
   "pygments_lexer": "ipython3",
   "version": "3.7.6"
  }
 },
 "nbformat": 4,
 "nbformat_minor": 4
}
